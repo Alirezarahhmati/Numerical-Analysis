{
 "cells": [
  {
   "attachments": {},
   "cell_type": "markdown",
   "metadata": {},
   "source": [
    "# Integration\n",
    "__Author__ : Mohammad Rouintan , 400222042\n",
    "\n",
    "__Course__ : Undergraduate Numerical Analysis Course"
   ]
  },
  {
   "cell_type": "code",
   "execution_count": 1,
   "metadata": {},
   "outputs": [],
   "source": [
    "import numpy as np\n",
    "import pandas as pd\n",
    "import matplotlib.pyplot as plt\n",
    "import sympy as sp"
   ]
  },
  {
   "attachments": {},
   "cell_type": "markdown",
   "metadata": {},
   "source": [
    "## Problem 1\n",
    "In Newton-Raphson methods, $\\int_{a}^{b} f(x)dx = \\sum w_jf(x_j)$. That means we consider integral equals by weighted sum of function $f$ in same distance points $x_j$ which are determined and we only need to determine weights.<br>\n",
    "\n",
    "Consider $x_j$ s as variable, for polynomials with degree zero and one calculate formula in template of $\\int_{-1}^{1} f(x)dx = w_1f(x)$ to achive highest precision.<br>"
   ]
  },
  {
   "attachments": {},
   "cell_type": "markdown",
   "metadata": {},
   "source": [
    "### Answer\n",
    "Because we only want to approximate with one point, we choose the middle point of the interval, that is, $x_1 = 0$\n",
    "$$\n",
    "    \\begin{cases}\n",
    "      f(x) = 1 \\Rightarrow w_1 \\times 1 = \\int_{-1}^{1} 1dx = 2\\\\\n",
    "      f(x) = x \\Rightarrow w_1 \\times x_1 = \\int_{-1}^{1} xdx = 0\\\\\n",
    "    \\end{cases}\n",
    "$$\n",
    "$$\n",
    "\\Rightarrow\n",
    "    \\begin{cases}\n",
    "      w_1 \\times 1 = 2\\\\\n",
    "      w_1 \\times 0 = 0\\\\\n",
    "    \\end{cases}\n",
    "$$\n",
    "$$\n",
    "\\Rightarrow\n",
    "    w_1 = 2\n",
    "$$"
   ]
  },
  {
   "attachments": {},
   "cell_type": "markdown",
   "metadata": {},
   "source": [
    "## Problem 2\n",
    "Solve previous question for two points. $\\int_{-1}^{1} f(x)dx \\approx w_1f(x_1) + w_2f(x_2)$."
   ]
  },
  {
   "attachments": {},
   "cell_type": "markdown",
   "metadata": {},
   "source": [
    "### Answer\n",
    "Because we only want to approximate with two points, we choose the beginning and end points of the interval, that is $x_1 = -1 , x_2 = 1$\n",
    "$$\n",
    "    \\begin{cases}\n",
    "      f(x) = 1 \\Rightarrow w_1 \\times 1 + w_2 \\times 1 = \\int_{-1}^{1} 1dx = 2\\\\\n",
    "      f(x) = x \\Rightarrow w_1 \\times x_1 + w_2 \\times x_2 = \\int_{-1}^{1} xdx = 0\\\\\n",
    "    \\end{cases}\n",
    "$$\n",
    "$$\n",
    "\\Rightarrow\n",
    "    \\begin{cases}\n",
    "      w_1 \\times 1 + w_2 \\times 1 = 2\\\\\n",
    "      w_1 \\times (-1) + w_2 \\times 1 = 0\\\\\n",
    "    \\end{cases}\n",
    "$$\n",
    "$$\n",
    "\\Rightarrow\n",
    "    \\begin{cases}\n",
    "      w_1 + w_2 = 2\\\\\n",
    "      -w_1 + w_2 = 0\\\\\n",
    "    \\end{cases}\n",
    "$$\n",
    "$$\n",
    "\\Rightarrow\n",
    "    w_1 = w_2 = 1\n",
    "$$"
   ]
  },
  {
   "attachments": {},
   "cell_type": "markdown",
   "metadata": {},
   "source": [
    "## Conclusion for this problem\n",
    "Write a conclusion and references which you've used in your homework"
   ]
  },
  {
   "cell_type": "code",
   "execution_count": null,
   "metadata": {},
   "outputs": [],
   "source": []
  }
 ],
 "metadata": {
  "kernelspec": {
   "display_name": "Python 3 (ipykernel)",
   "language": "python",
   "name": "python3"
  },
  "language_info": {
   "codemirror_mode": {
    "name": "ipython",
    "version": 3
   },
   "file_extension": ".py",
   "mimetype": "text/x-python",
   "name": "python",
   "nbconvert_exporter": "python",
   "pygments_lexer": "ipython3",
   "version": "3.9.12"
  },
  "orig_nbformat": 4,
  "vscode": {
   "interpreter": {
    "hash": "aee8b7b246df8f9039afb4144a1f6fd8d2ca17a180786b69acc140d282b71a49"
   }
  }
 },
 "nbformat": 4,
 "nbformat_minor": 2
}
