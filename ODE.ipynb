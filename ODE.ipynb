{
 "cells": [
  {
   "cell_type": "code",
   "execution_count": 4,
   "metadata": {},
   "outputs": [],
   "source": [
    "import numpy as np \n",
    "import pandas as pd \n",
    "import matplotlib.pyplot as plt \n",
    "import seaborn as sns\n",
    "import sympy as sy\n",
    "from sympy import *\n",
    "\n",
    "PERCISION = 20"
   ]
  },
  {
   "cell_type": "code",
   "execution_count": 6,
   "metadata": {},
   "outputs": [],
   "source": [
    "x = symbols(\"x\")\n",
    "y1 = symbols(\"y1\") \n",
    "y2= symbols(\"y2\")\n",
    "y3= symbols(\"y3\")\n",
    "y = Function(\"y\")(x) \n",
    "\n",
    "function = Derivative(Derivative(y,x)) + x*Derivative(y,x) + y - sqrt(1+x)"
   ]
  },
  {
   "cell_type": "code",
   "execution_count": 7,
   "metadata": {},
   "outputs": [],
   "source": [
    "\n",
    "def solve_eq( x0 , x4 ):\n",
    "    eq1 = (y2 - 2*y1 + x0 )/(0.25)**2 - (y2-x0)/(0.25) + y1 - sqrt(1+0.25)\n",
    "    eq2 = (y3 - 2*y2 + y1 )/(0.25)**2 - (y3-y1)/(0.25) + y2 - sqrt(1+0.25)\n",
    "    eq3 = (x4 - 2*y3 + y2 )/(0.25)**2 - (x4-y2)/(0.25) + y3 - sqrt(1+0.25)\n",
    "    result = solve([eq1,eq2,eq3],(y1,y2,y3))\n",
    "    print(result)\n",
    "\n"
   ]
  },
  {
   "cell_type": "code",
   "execution_count": 8,
   "metadata": {},
   "outputs": [
    {
     "name": "stdout",
     "output_type": "stream",
     "text": [
      "{y1: 22.1458649289730, y2: 23.9699872322427, y3: 25.1058616340679}\n"
     ]
    }
   ],
   "source": [
    "solve_eq(20,25) "
   ]
  },
  {
   "cell_type": "code",
   "execution_count": null,
   "metadata": {},
   "outputs": [],
   "source": []
  }
 ],
 "metadata": {
  "kernelspec": {
   "display_name": "base",
   "language": "python",
   "name": "python3"
  },
  "language_info": {
   "codemirror_mode": {
    "name": "ipython",
    "version": 3
   },
   "file_extension": ".py",
   "mimetype": "text/x-python",
   "name": "python",
   "nbconvert_exporter": "python",
   "pygments_lexer": "ipython3",
   "version": "3.9.13"
  },
  "orig_nbformat": 4,
  "vscode": {
   "interpreter": {
    "hash": "d6b351f3cc0cfd67d72be80e6b4837fe8868a2d6b89e8661c798e2b3fb5dcebc"
   }
  }
 },
 "nbformat": 4,
 "nbformat_minor": 2
}
