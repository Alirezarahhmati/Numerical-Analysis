{
 "cells": [
  {
   "attachments": {},
   "cell_type": "markdown",
   "metadata": {},
   "source": [
    "# Regression\n",
    "__Author__ : Mohammad Rouintan , 400222042\n",
    "\n",
    "__Course__ : Undergraduate Numerical Analysis Course"
   ]
  },
  {
   "cell_type": "code",
   "execution_count": 1,
   "metadata": {},
   "outputs": [],
   "source": [
    "import numpy as np \n",
    "import pandas as pd\n",
    "import matplotlib.pyplot as plt\n",
    "import sympy as sp"
   ]
  },
  {
   "attachments": {},
   "cell_type": "markdown",
   "metadata": {},
   "source": [
    "## Problem 1\n",
    "Calculate an exponential mathematical model on these data points:<br>\n",
    "You can use $\\ln{y} = \\ln{a} + bx$ for your calculations.<br>\n",
    "$Y = A + Bx$"
   ]
  },
  {
   "cell_type": "code",
   "execution_count": 47,
   "metadata": {},
   "outputs": [],
   "source": [
    "x_values = np.array([1, 2, 3, 4, 5, 6])\n",
    "y_values = np.array([1, 2.3, 4.1, 7.8, 15.9, 33])"
   ]
  },
  {
   "cell_type": "code",
   "execution_count": 48,
   "metadata": {},
   "outputs": [],
   "source": [
    "a11 = 6\n",
    "a12 = np.sum(x_values)\n",
    "a21 = np.sum(x_values)\n",
    "a22 = np.sum(x_values**2)\n",
    "\n",
    "b11 = np.sum(np.log(y_values))\n",
    "b21 = np.sum(x_values * np.log(y_values))"
   ]
  },
  {
   "cell_type": "code",
   "execution_count": 49,
   "metadata": {},
   "outputs": [
    {
     "data": {
      "text/plain": [
       "{A: -0.632449369113480, B: 0.683597272176880}"
      ]
     },
     "execution_count": 49,
     "metadata": {},
     "output_type": "execute_result"
    }
   ],
   "source": [
    "A, B = sp.symbols('A B')\n",
    "eq1 = sp.Eq(a11*A + a12*B, b11)\n",
    "eq2 = sp.Eq(a21*A + a22*B, b21)\n",
    "answer = sp.solve((eq1, eq2), (A, B))\n",
    "answer"
   ]
  },
  {
   "cell_type": "code",
   "execution_count": 50,
   "metadata": {},
   "outputs": [],
   "source": [
    "a, b = np.exp(float(answer.get(A))), float(answer.get(B))"
   ]
  },
  {
   "cell_type": "code",
   "execution_count": 51,
   "metadata": {},
   "outputs": [],
   "source": [
    "x = sp.symbols('x')\n",
    "y = a * sp.exp(b * x)"
   ]
  },
  {
   "cell_type": "code",
   "execution_count": 52,
   "metadata": {},
   "outputs": [
    {
     "data": {
      "image/png": "[encoded data removed]",
      "text/plain": [
       "<Figure size 720x504 with 1 Axes>"
      ]
     },
     "metadata": {
      "needs_background": "light"
     },
     "output_type": "display_data"
    }
   ],
   "source": [
    "x_val = np.linspace(1, 6, 100)\n",
    "y_val = [float(y.subs(x, i)) for i in x_val]\n",
    "plt.figure(figsize=(10, 7))\n",
    "plt.plot(x_values, y_values, 'o', color='black', label='data')\n",
    "plt.plot(x_val, y_val, color='red', label='regression')\n",
    "plt.legend()\n",
    "plt.show()"
   ]
  },
  {
   "attachments": {},
   "cell_type": "markdown",
   "metadata": {},
   "source": [
    "## Problem 2\n",
    "Calculate a model with formula $y = \\frac{1}{a+bx}$ on first question data points. You can use $\\frac{1}{y} = a + bx$ and $Y = A + Bx$."
   ]
  },
  {
   "cell_type": "code",
   "execution_count": 53,
   "metadata": {},
   "outputs": [],
   "source": [
    "a11 = 6\n",
    "a12 = np.sum(x_values)\n",
    "a21 = np.sum(x_values)\n",
    "a22 = np.sum(x_values**2)\n",
    "\n",
    "b11 = np.sum(1 / y_values)\n",
    "b21 = np.sum(x_values * (1 / y_values))"
   ]
  },
  {
   "cell_type": "code",
   "execution_count": 54,
   "metadata": {},
   "outputs": [
    {
     "data": {
      "text/plain": [
       "{a: 0.924666122009009, b: -0.173710021145945}"
      ]
     },
     "execution_count": 54,
     "metadata": {},
     "output_type": "execute_result"
    }
   ],
   "source": [
    "a, b = sp.symbols('a b')\n",
    "eq1 = sp.Eq(a11*a + a12*b, b11)\n",
    "eq2 = sp.Eq(a21*a + a22*b, b21)\n",
    "answer = sp.solve((eq1, eq2), (a, b))\n",
    "answer"
   ]
  },
  {
   "cell_type": "code",
   "execution_count": 55,
   "metadata": {},
   "outputs": [],
   "source": [
    "a, b = float(answer.get(a)), float(answer.get(b))"
   ]
  },
  {
   "cell_type": "code",
   "execution_count": 56,
   "metadata": {},
   "outputs": [],
   "source": [
    "x = sp.symbols('x')\n",
    "y = 1 / (a + b * x)"
   ]
  },
  {
   "cell_type": "code",
   "execution_count": 62,
   "metadata": {},
   "outputs": [
    {
     "data": {
      "image/png": "[encoded data removed]",
      "text/plain": [
       "<Figure size 720x504 with 1 Axes>"
      ]
     },
     "metadata": {
      "needs_background": "light"
     },
     "output_type": "display_data"
    }
   ],
   "source": [
    "x_val = np.linspace(1, 6, 100)\n",
    "y_val = [float(y.subs(x, i)) for i in x_val]\n",
    "plt.figure(figsize=(10, 7))\n",
    "plt.plot(x_values, y_values, 'o', color='black', label='data')\n",
    "plt.plot(x_val, y_val, color='red', label='regression')\n",
    "plt.legend()\n",
    "\n",
    "plt.show()"
   ]
  },
  {
   "attachments": {},
   "cell_type": "markdown",
   "metadata": {},
   "source": [
    "## Conclusion for this problem\n",
    "Write a conclusion and references which you've used in your homework"
   ]
  },
  {
   "cell_type": "code",
   "execution_count": null,
   "metadata": {},
   "outputs": [],
   "source": []
  }
 ],
 "metadata": {
  "kernelspec": {
   "display_name": "Python 3 (ipykernel)",
   "language": "python",
   "name": "python3"
  },
  "language_info": {
   "codemirror_mode": {
    "name": "ipython",
    "version": 3
   },
   "file_extension": ".py",
   "mimetype": "text/x-python",
   "name": "python",
   "nbconvert_exporter": "python",
   "pygments_lexer": "ipython3",
   "version": "3.9.12"
  },
  "orig_nbformat": 4,
  "vscode": {
   "interpreter": {
    "hash": "aee8b7b246df8f9039afb4144a1f6fd8d2ca17a180786b69acc140d282b71a49"
   }
  }
 },
 "nbformat": 4,
 "nbformat_minor": 2
}
